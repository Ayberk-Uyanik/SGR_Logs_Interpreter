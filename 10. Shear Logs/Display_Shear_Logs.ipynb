{
 "cells": [
  {
   "cell_type": "code",
   "execution_count": null,
   "metadata": {},
   "outputs": [],
   "source": [
    "# Displaying WSTT Logs #\n",
    "def display_shear_logs (wstt, formations, casings, wellname):\n",
    "    # Constants #\n",
    "    gr_logs = [\"GR\", \"CGR\", \"SGR\"]\n",
    "    gr_log_colours = [\"brown\", \"blue\", \"black\"]\n",
    "\n",
    "    wstt_list = [\"CO_VEL\", \"SH_VEL\", \"VPVS\", \"PR\", \"Bulk\", \"Shear\", \"Young\"]\n",
    "    wstt_colours = [\"brown\", \"blue\", \"black\", \"green\", \"darkviolet\", \"magenta\", \"darkorange\"]\n",
    "\n",
    "    casing_list = [\"CasingGR\", \"CasingTHOR\", \"CasingURA\", \"CasingGR\", \"CasingURA\", \"CasingGR\", \"CasingGR\", \"CasingGR\", \"CasingCALI\"]\n",
    "    figure_titles = [\"GR/CGR/SGR\", \"Vp\", \"Vs\", \"Vp/Vs\", \"Poisson's Ratio\", \"Bulk Modulus\", \"Shear Modulus\", \"Young Modulus\", \"CALI-BS\"]\n",
    "\n",
    "    # Figure Generation #\n",
    "    fig = make_subplots(rows=1, cols=9, \n",
    "                        subplot_titles=([i for i in figure_titles]), \n",
    "                        column_widths=[1, 1, 1, 1, 1, 1, 1, 1, 1], \n",
    "                        shared_yaxes=True)\n",
    "\n",
    "    # Figure Data Selection #\n",
    "    for i in range (0, len(gr_logs), 1):\n",
    "        fig.add_trace(go.Scatter(x=wstt[f\"{gr_logs[i]}\"], y=wstt[\"DEPTH\"], \n",
    "                                   name=f\"{wellname} {gr_logs[i]} Log\", mode=\"lines\", \n",
    "                                   line=dict(width=0.5, color=f\"{gr_log_colours[i]}\"), showlegend=False), row=1, col=1)\n",
    "\n",
    "    for i in range (0, len(wstt_list), 1):\n",
    "        fig.add_trace(go.Scatter(x=wstt[f\"{wstt_list[i]}\"], y=wstt[\"DEPTH\"], \n",
    "                                   name=f\"{wellname} {wstt_list[i]} Log\", mode=\"lines\", \n",
    "                                   line=dict(width=0.5, color=f\"{wstt_colours[i]}\"), showlegend=False), row=1, col=i+2)\n",
    "\n",
    "    # CALI-BS Logs #                             \n",
    "    fig.add_trace(go.Scatter(x=wstt[\"CALI\"], y=wstt[\"DEPTH\"], name=f\"{wellname} CALI Log\", mode=\"lines\", \n",
    "                                line=dict(width=0.5, color=\"black\"), showlegend=False), row=1, col=9)\n",
    "    fig.add_trace(go.Scatter(x=wstt[\"BS\"], y=wstt[\"DEPTH\"], name=\"Bad Hole\", mode=\"lines\", \n",
    "                                line=dict(width=0.8, color=\"red\", dash=\"dash\"), fill=\"tonextx\", fillcolor=\"yellow\", showlegend=True), row=1, col=9)\n",
    "\n",
    "    # Figure Styles #\n",
    "    fig.update_layout (title_text=f\"{wellname} Shear Logs\", width=1800, height=750, showlegend=True)\n",
    "\n",
    "    # X-Axis Styles #\n",
    "    fig.update_xaxes(title_text=\"GR (API)\", range=[0, 240], row=1, col=1)\n",
    "    fig.update_xaxes(title_text=\"Compressional Velocity (m/s)\", range=[1000, 3000], row=1, col=2)\n",
    "    fig.update_xaxes(title_text=\"Shear Velocity (m/s)\", range=[500, 2000], row=1, col=3)\n",
    "    fig.update_xaxes(title_text=\"Vp/Vs\", range=[0, 5], row=1, col=4)\n",
    "    fig.update_xaxes(title_text=\"Poisson's Ratio\", range=[0.1, 0.5], row=1, col=5)\n",
    "    fig.update_xaxes(title_text=\"Bulk Modulus\", range=[0, 120], row=1, col=6)\n",
    "    fig.update_xaxes(title_text=\"Shear Modulus\", range=[0, 100], row=1, col=7)\n",
    "    fig.update_xaxes(title_text=\"Young Modulus\", range=[0, 150], row=1, col=8)\n",
    "    fig.update_xaxes(title_text=\"CALIPER (inch)\", range=[6, 15], row=1, col=9)\n",
    "\n",
    "    # Y Axis Styles #\n",
    "    fig.update_yaxes(title_text=\"MD (m.)\", autorange=\"reversed\", row=1, col=1)\n",
    "    for i in range (1, 9, 1):\n",
    "        fig.update_yaxes(autorange=\"reversed\", row=1, col=i)\n",
    "    \n",
    "    # Casing Depths #\n",
    "    for i in range (0, len(casing_list), 1):\n",
    "        fig.add_trace(go.Scatter(x=casings[f\"{casing_list[i]}\"], y=casings[\"DEPTH\"], name=\"Casings\", mode=\"markers+lines\", \n",
    "                                line=dict(width=2, color=\"black\"), marker=dict(symbol=\"triangle-sw\", size=18), showlegend=False), row=1, col=i+1) \n",
    "   \n",
    "    # Formation Depths #\n",
    "    for i in range (0, len(formations[\"Names\"]), 1):\n",
    "        fig.add_hrect(y0=formations[\"Top\"][i], y1=formations[\"Base\"][i], line_width=0, fillcolor=formations[\"Colours\"][i], \n",
    "                    opacity=0.2, row=1, col=\"all\", annotation_text=formations[\"Names\"][i], annotation_position=\"right\") \n",
    "\n",
    "    fig.show()"
   ]
  }
 ],
 "metadata": {
  "kernelspec": {
   "display_name": "Python 3.8.8 ('base')",
   "language": "python",
   "name": "python3"
  },
  "language_info": {
   "name": "python",
   "version": "3.8.8"
  },
  "orig_nbformat": 4,
  "vscode": {
   "interpreter": {
    "hash": "64e73d068119f1d93e8fcdcaf0128e536576c6813a8cecaa1a308ceb79ab222b"
   }
  }
 },
 "nbformat": 4,
 "nbformat_minor": 2
}
