{
 "cells": [
  {
   "cell_type": "code",
   "execution_count": null,
   "metadata": {},
   "outputs": [],
   "source": [
    "# Global Functions for Practical Calculations and Filtering #\n",
    "def filter_data (dataframe, topdepth, basedepth):\n",
    "    mask = (dataframe[\"DEPTH\"] > topdepth) & (dataframe[\"DEPTH\"] < basedepth)\n",
    "    dataframe = dataframe.loc[mask]\n",
    "    return dataframe\n",
    "\n",
    "def filter_gr_log (dataframe, minvalue, maxvalue):\n",
    "    mask = (dataframe[\"GR\"] > minvalue) & (dataframe[\"GR\"] < maxvalue)\n",
    "    dataframe = dataframe.loc[mask]\n",
    "    return dataframe\n",
    "\n",
    "def filter_thk_log (dataframe, minvalue, maxvalue):\n",
    "    mask = (dataframe[\"Th/K\"] > minvalue) & (dataframe[\"Th/K\"] < maxvalue)\n",
    "    dataframe = dataframe.loc[mask]\n",
    "    return dataframe        \n",
    "\n",
    "def seperate_formations (formations):\n",
    "    for i in range (0, len(formations[\"Names\"]), 1):\n",
    "        dataframe = filter_data(formations, formations[\"Top\"][i], formations[\"Base\"][i])\n",
    "    return dataframe        \n",
    "\n",
    "def derive_porosity (dataframe):\n",
    "    # Gardner-Hunt-Raymer Equation (Schlumberger Empirical Relations)\n",
    "    dataframe[\"porosity_gardner\"] = [(5/8)*((i-55)/i) for i in dataframe[\"DT\"]]\n",
    "\n",
    "    # Gardner-Hunt-Raymer Equation (Schlumberger Empirical Relations)\n",
    "    dataframe[\"porosity_from_density\"] = [(2.55-i)/((2.55-0.2)/i) for i in dataframe[\"RHOB\"]]\n",
    "    return dataframe\n",
    "\n",
    "def predict_toc (dataframe):\n",
    "    # dataframe[\"toc_density\"] = [((154.497/i)-57.261) for i in dataframe[\"RHOB\"]]\n",
    "    dataframe[\"toc_density\"] = [((200/i)-87) for i in dataframe[\"RHOB\"]]\n",
    "    dataframe[\"toc_density_2\"] = [((-15.491*i)+35) for i in dataframe[\"RHOB\"]]\n",
    "    return dataframe \n",
    "\n",
    "def cross_plot (dataframe, wellname):\n",
    "    figure = go.Figure() \n",
    "    figure.add_trace(go.Scatter(x=dataframe[\"porosity_gardner\"], y=dataframe[\"DEPTH_GR\"], name=\"Gardner Equation\"))\n",
    "    figure.add_trace(go.Scatter(x=dataframe[\"porosity_from_density\"], y=dataframe[\"DEPTH_RH\"], name=\"Porosity from RHOB\"))\n",
    "    figure.add_trace(go.Scatter(x=dataframe[\"NPHI_WL\"], y=dataframe[\"DEPTH_WL\"], name=\"NPHI\"))\n",
    "    figure.update_layout (title_text=\"{} Porosity Profile\".format(wellname))\n",
    "    figure.update_xaxes(title=\"Porosity\", range=[-0.15, 0.65])\n",
    "    figure.update_yaxes(title=\"Depth (m.)\", autorange=\"reversed\")\n",
    "    figure.show ()"
   ]
  }
 ],
 "metadata": {
  "kernelspec": {
   "display_name": "Python 3.8.8 ('base')",
   "language": "python",
   "name": "python3"
  },
  "language_info": {
   "name": "python",
   "version": "3.8.8"
  },
  "orig_nbformat": 4,
  "vscode": {
   "interpreter": {
    "hash": "64e73d068119f1d93e8fcdcaf0128e536576c6813a8cecaa1a308ceb79ab222b"
   }
  }
 },
 "nbformat": 4,
 "nbformat_minor": 2
}
